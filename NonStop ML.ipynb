{
 "cells": [
  {
   "cell_type": "code",
   "execution_count": 1,
   "id": "24f44aa5",
   "metadata": {},
   "outputs": [],
   "source": [
    "!pip3 -qqq install newspaper3k"
   ]
  },
  {
   "cell_type": "code",
   "execution_count": 2,
   "id": "f0f70bb6",
   "metadata": {},
   "outputs": [],
   "source": [
    "from newspaper import Article"
   ]
  },
  {
   "cell_type": "code",
   "execution_count": 3,
   "id": "6ba34618",
   "metadata": {},
   "outputs": [],
   "source": [
    "\n",
    "article_URL = \"https://www.cnn.com/2022/11/17/media/twitter-exodus-reliable-sources/index.html\""
   ]
  },
  {
   "cell_type": "code",
   "execution_count": 4,
   "id": "f2adda06",
   "metadata": {},
   "outputs": [],
   "source": [
    "\n",
    "cnn_article = Article(article_URL)"
   ]
  },
  {
   "cell_type": "code",
   "execution_count": 5,
   "id": "e4862fef",
   "metadata": {},
   "outputs": [],
   "source": [
    "cnn_article.download()"
   ]
  },
  {
   "cell_type": "code",
   "execution_count": 6,
   "id": "f9b17ec7",
   "metadata": {},
   "outputs": [],
   "source": [
    "\n",
    "cnn_article.parse()\n"
   ]
  },
  {
   "cell_type": "code",
   "execution_count": 7,
   "id": "c5d94883",
   "metadata": {},
   "outputs": [
    {
     "data": {
      "text/plain": [
       "['Oliver Darcy']"
      ]
     },
     "execution_count": 7,
     "metadata": {},
     "output_type": "execute_result"
    }
   ],
   "source": [
    "\n",
    "cnn_article.authors"
   ]
  },
  {
   "cell_type": "code",
   "execution_count": 8,
   "id": "298b427e",
   "metadata": {},
   "outputs": [
    {
     "data": {
      "text/plain": [
       "datetime.datetime(2022, 11, 17, 0, 0)"
      ]
     },
     "execution_count": 8,
     "metadata": {},
     "output_type": "execute_result"
    }
   ],
   "source": [
    "cnn_article.publish_date"
   ]
  },
  {
   "cell_type": "code",
   "execution_count": 9,
   "id": "2a1d2987",
   "metadata": {},
   "outputs": [
    {
     "data": {
      "text/plain": [
       "'Inside Twitter as ‘mass exodus’ of staffers throws platform’s future into uncertainty'"
      ]
     },
     "execution_count": 9,
     "metadata": {},
     "output_type": "execute_result"
    }
   ],
   "source": [
    "cnn_article.title"
   ]
  },
  {
   "cell_type": "code",
   "execution_count": 10,
   "id": "8e101771",
   "metadata": {},
   "outputs": [
    {
     "name": "stdout",
     "output_type": "stream",
     "text": [
      "New York CNN Business —\n",
      "\n",
      "Death is in the air on Twitter.\n",
      "\n",
      "On the platform Thursday evening, where #RIPTwitter was the top trend worldwide, users wrote what they feared might be their last posts, offering apprehensive goodbyes and listing the other (more stable) social media platforms where they can still be found.\n",
      "\n",
      "They were reacting to the dire news emanating from inside Twitter. Scores of remaining employees at the social media company on Thursday appeared to reject owner Elon Musk’s ultimatum to work “extremely hardcore,” throwing the communications platform into utter disarray and raising serious questions about how much longer it will survive.\n",
      "\n",
      "A version of this article first appeared in the “Reliable Sources” newsletter. Sign up for the daily digest chronicling the evolving media landscape here.\n",
      "\n",
      "The death of Twitter would have weighty consequences, given how integral the platform is to global communications. The platform has often been compared to a digital town square. World leaders use Twitter to communicate, journalists use Twitter to newsgather, dissidents in repressive countries use Twitter to organize, celebrities and major brands use Twitter to make important announcements, and the public often uses Twitter to monitor all of it in real-time.\n",
      "\n",
      "If the platform were to die off, or become unusable because of instability issues, no single space would immediately replace it and communications could become fractured across multiple social media websites, leading to a seismic disruption and slowdown in the flow of information.\n",
      "\n",
      "Inside the company’s Slack, a mass resignation effectively occurred after Musk’s 5pm deadline for employees to arrive at a decision passed. Hundreds of staffers appear to have called it quits, accepting Musk’s offer to exit in exchange for three months of severance.\n",
      "\n",
      "Employees flooded the “#social-watercooler” channel with the salute emoji, indicating that they had chosen not to sign Musk’s pledge. A similar series of events unfolded in the Slack channel earlier this month as Musk eliminated roughly 50% of the company’s then 7,500-person workforce.\n",
      "\n",
      "A former Twitter executive, who recently exited the company, described the situation as a “mass exodus.” Asked about the situation, the former executive said, “Elon is finding out that he can’t bully top senior talent. They have lots of options and won’t put up with his antics.”\n",
      "\n",
      "“They will struggle just to keep the lights on,” the former executive added.\n",
      "\n",
      "That assessment was universally shared by the other half dozen current and former employees on Thursday. It was already bad enough after Musk executed mass layoffs at the company earlier this month. So bad that Twitter asked some of the people it had let go to come back just days later. The state-of-play has only become more dire since then.\n",
      "\n",
      "In fact, Twitter management was in panic mode hours before the deadline passed, people familiar with the matter said, explaining that senior leaders were “scrambling” to convince talent to stay at the company.\n",
      "\n",
      "Musk himself seemed to finally realize the grim state of affairs, sending an all-staff email relaxing his previously uncompromising anti-remote work position. “Regarding remote work, all that is required for approval is that your manager takes responsibility for ensuring that you are making an excellent contribution,” Musk said in the email.\n",
      "\n",
      "It didn’t appear to do much good.\n",
      "\n",
      "Two employees who had decided to reject Musk’s ultimatum on Thursday were quite clear in why they were doing so. “I don’t want to stick around to build a product that’s being poisoned from the inside and out,” one said, adding later that he felt good about making a decision “in line with what I stand for.”\n",
      "\n",
      "A recently laid off employee who remains in touch with former coworkers said, “People don’t want to sacrifice their mental health and family lives to make the richest man in the world richer.”\n",
      "\n",
      "And Twitter seemed to grasp the mess on its hands Thursday evening, sending an email to staff notifying them it has once again shuttered all of its offices and suspended employee badge access, presumably to protect its systems and data.\n",
      "\n",
      "Twitter’s already decimated communications department didn’t respond to requests for comment. But Musk nodded to the situation in a tweet.\n",
      "\n",
      "“How do you make a small fortune in social media?” Musk asked. “Start out with a large one.”\n"
     ]
    }
   ],
   "source": [
    "print(cnn_article.text)"
   ]
  },
  {
   "cell_type": "code",
   "execution_count": 11,
   "id": "0c31d6bc",
   "metadata": {},
   "outputs": [
    {
     "name": "stderr",
     "output_type": "stream",
     "text": [
      "[nltk_data] Downloading package punkt to\n",
      "[nltk_data]     C:\\Users\\hp\\AppData\\Roaming\\nltk_data...\n",
      "[nltk_data]   Package punkt is already up-to-date!\n"
     ]
    },
    {
     "data": {
      "text/plain": [
       "True"
      ]
     },
     "execution_count": 11,
     "metadata": {},
     "output_type": "execute_result"
    }
   ],
   "source": [
    "import nltk\n",
    "nltk.download('punkt')"
   ]
  },
  {
   "cell_type": "code",
   "execution_count": 12,
   "id": "a9206f5b",
   "metadata": {},
   "outputs": [],
   "source": [
    "cnn_article.nlp()"
   ]
  },
  {
   "cell_type": "code",
   "execution_count": 13,
   "id": "af4f5616",
   "metadata": {},
   "outputs": [
    {
     "data": {
      "text/plain": [
       "['throws',\n",
       " 'future',\n",
       " 'musks',\n",
       " 'platforms',\n",
       " 'work',\n",
       " 'inside',\n",
       " 'situation',\n",
       " 'uncertainty',\n",
       " 'social',\n",
       " 'communications',\n",
       " 'staffers',\n",
       " 'exodus',\n",
       " 'musk',\n",
       " 'media',\n",
       " 'twitter',\n",
       " 'platform',\n",
       " 'employees',\n",
       " 'mass']"
      ]
     },
     "execution_count": 13,
     "metadata": {},
     "output_type": "execute_result"
    }
   ],
   "source": [
    "cnn_article.keywords"
   ]
  },
  {
   "cell_type": "code",
   "execution_count": 14,
   "id": "7c32934f",
   "metadata": {},
   "outputs": [
    {
     "data": {
      "text/plain": [
       "'The death of Twitter would have weighty consequences, given how integral the platform is to global communications.\\nInside the company’s Slack, a mass resignation effectively occurred after Musk’s 5pm deadline for employees to arrive at a decision passed.\\nHundreds of staffers appear to have called it quits, accepting Musk’s offer to exit in exchange for three months of severance.\\nSo bad that Twitter asked some of the people it had let go to come back just days later.\\n“How do you make a small fortune in social media?” Musk asked.'"
      ]
     },
     "execution_count": 14,
     "metadata": {},
     "output_type": "execute_result"
    }
   ],
   "source": [
    "cnn_article.summary"
   ]
  },
  {
   "cell_type": "code",
   "execution_count": 15,
   "id": "021b450f",
   "metadata": {},
   "outputs": [],
   "source": [
    "# Import necessary libraries\n",
    "from sklearn.model_selection import train_test_split\n",
    "from sklearn.feature_extraction.text import TfidfVectorizer\n",
    "from sklearn.svm import SVC\n",
    "from sklearn.metrics import accuracy_score, classification_report"
   ]
  },
  {
   "cell_type": "code",
   "execution_count": 16,
   "id": "3a5ccdd5",
   "metadata": {},
   "outputs": [],
   "source": [
    "# Assuming you have a dataset with text samples and corresponding labels\n",
    "# For demonstration purposes, let's create a sample dataset\n",
    "texts = [\"This is a positive example.\", \"Negative sentiment here.\", \"Another positive text.\", \"Negative review.\"]\n",
    "labels = [1, 0, 1, 0]"
   ]
  },
  {
   "cell_type": "code",
   "execution_count": 17,
   "id": "b64a4e38",
   "metadata": {},
   "outputs": [],
   "source": [
    "# Split the dataset into training and testing sets\n",
    "X_train, X_test, y_train, y_test = train_test_split(texts, labels, test_size=0.2, random_state=42)"
   ]
  },
  {
   "cell_type": "code",
   "execution_count": 18,
   "id": "881ad9a3",
   "metadata": {},
   "outputs": [],
   "source": [
    "# Create a TF-IDF vectorizer to convert text into numerical features\n",
    "vectorizer = TfidfVectorizer()\n",
    "X_train_tfidf = vectorizer.fit_transform(X_train)\n",
    "X_test_tfidf = vectorizer.transform(X_test)"
   ]
  },
  {
   "cell_type": "code",
   "execution_count": 19,
   "id": "08fc8220",
   "metadata": {},
   "outputs": [],
   "source": [
    "# Create an SVM classifier\n",
    "svm_classifier = SVC(kernel='linear')"
   ]
  },
  {
   "cell_type": "code",
   "execution_count": 20,
   "id": "1e317e5a",
   "metadata": {},
   "outputs": [
    {
     "data": {
      "text/html": [
       "<style>#sk-container-id-1 {color: black;background-color: white;}#sk-container-id-1 pre{padding: 0;}#sk-container-id-1 div.sk-toggleable {background-color: white;}#sk-container-id-1 label.sk-toggleable__label {cursor: pointer;display: block;width: 100%;margin-bottom: 0;padding: 0.3em;box-sizing: border-box;text-align: center;}#sk-container-id-1 label.sk-toggleable__label-arrow:before {content: \"▸\";float: left;margin-right: 0.25em;color: #696969;}#sk-container-id-1 label.sk-toggleable__label-arrow:hover:before {color: black;}#sk-container-id-1 div.sk-estimator:hover label.sk-toggleable__label-arrow:before {color: black;}#sk-container-id-1 div.sk-toggleable__content {max-height: 0;max-width: 0;overflow: hidden;text-align: left;background-color: #f0f8ff;}#sk-container-id-1 div.sk-toggleable__content pre {margin: 0.2em;color: black;border-radius: 0.25em;background-color: #f0f8ff;}#sk-container-id-1 input.sk-toggleable__control:checked~div.sk-toggleable__content {max-height: 200px;max-width: 100%;overflow: auto;}#sk-container-id-1 input.sk-toggleable__control:checked~label.sk-toggleable__label-arrow:before {content: \"▾\";}#sk-container-id-1 div.sk-estimator input.sk-toggleable__control:checked~label.sk-toggleable__label {background-color: #d4ebff;}#sk-container-id-1 div.sk-label input.sk-toggleable__control:checked~label.sk-toggleable__label {background-color: #d4ebff;}#sk-container-id-1 input.sk-hidden--visually {border: 0;clip: rect(1px 1px 1px 1px);clip: rect(1px, 1px, 1px, 1px);height: 1px;margin: -1px;overflow: hidden;padding: 0;position: absolute;width: 1px;}#sk-container-id-1 div.sk-estimator {font-family: monospace;background-color: #f0f8ff;border: 1px dotted black;border-radius: 0.25em;box-sizing: border-box;margin-bottom: 0.5em;}#sk-container-id-1 div.sk-estimator:hover {background-color: #d4ebff;}#sk-container-id-1 div.sk-parallel-item::after {content: \"\";width: 100%;border-bottom: 1px solid gray;flex-grow: 1;}#sk-container-id-1 div.sk-label:hover label.sk-toggleable__label {background-color: #d4ebff;}#sk-container-id-1 div.sk-serial::before {content: \"\";position: absolute;border-left: 1px solid gray;box-sizing: border-box;top: 0;bottom: 0;left: 50%;z-index: 0;}#sk-container-id-1 div.sk-serial {display: flex;flex-direction: column;align-items: center;background-color: white;padding-right: 0.2em;padding-left: 0.2em;position: relative;}#sk-container-id-1 div.sk-item {position: relative;z-index: 1;}#sk-container-id-1 div.sk-parallel {display: flex;align-items: stretch;justify-content: center;background-color: white;position: relative;}#sk-container-id-1 div.sk-item::before, #sk-container-id-1 div.sk-parallel-item::before {content: \"\";position: absolute;border-left: 1px solid gray;box-sizing: border-box;top: 0;bottom: 0;left: 50%;z-index: -1;}#sk-container-id-1 div.sk-parallel-item {display: flex;flex-direction: column;z-index: 1;position: relative;background-color: white;}#sk-container-id-1 div.sk-parallel-item:first-child::after {align-self: flex-end;width: 50%;}#sk-container-id-1 div.sk-parallel-item:last-child::after {align-self: flex-start;width: 50%;}#sk-container-id-1 div.sk-parallel-item:only-child::after {width: 0;}#sk-container-id-1 div.sk-dashed-wrapped {border: 1px dashed gray;margin: 0 0.4em 0.5em 0.4em;box-sizing: border-box;padding-bottom: 0.4em;background-color: white;}#sk-container-id-1 div.sk-label label {font-family: monospace;font-weight: bold;display: inline-block;line-height: 1.2em;}#sk-container-id-1 div.sk-label-container {text-align: center;}#sk-container-id-1 div.sk-container {/* jupyter's `normalize.less` sets `[hidden] { display: none; }` but bootstrap.min.css set `[hidden] { display: none !important; }` so we also need the `!important` here to be able to override the default hidden behavior on the sphinx rendered scikit-learn.org. See: https://github.com/scikit-learn/scikit-learn/issues/21755 */display: inline-block !important;position: relative;}#sk-container-id-1 div.sk-text-repr-fallback {display: none;}</style><div id=\"sk-container-id-1\" class=\"sk-top-container\"><div class=\"sk-text-repr-fallback\"><pre>SVC(kernel=&#x27;linear&#x27;)</pre><b>In a Jupyter environment, please rerun this cell to show the HTML representation or trust the notebook. <br />On GitHub, the HTML representation is unable to render, please try loading this page with nbviewer.org.</b></div><div class=\"sk-container\" hidden><div class=\"sk-item\"><div class=\"sk-estimator sk-toggleable\"><input class=\"sk-toggleable__control sk-hidden--visually\" id=\"sk-estimator-id-1\" type=\"checkbox\" checked><label for=\"sk-estimator-id-1\" class=\"sk-toggleable__label sk-toggleable__label-arrow\">SVC</label><div class=\"sk-toggleable__content\"><pre>SVC(kernel=&#x27;linear&#x27;)</pre></div></div></div></div></div>"
      ],
      "text/plain": [
       "SVC(kernel='linear')"
      ]
     },
     "execution_count": 20,
     "metadata": {},
     "output_type": "execute_result"
    }
   ],
   "source": [
    "# Train the classifier\n",
    "svm_classifier.fit(X_train_tfidf, y_train)"
   ]
  },
  {
   "cell_type": "code",
   "execution_count": 21,
   "id": "f8bfa092",
   "metadata": {},
   "outputs": [],
   "source": [
    "# Make predictions on the test set\n",
    "y_pred = svm_classifier.predict(X_test_tfidf)"
   ]
  },
  {
   "cell_type": "code",
   "execution_count": 22,
   "id": "d4db79cb",
   "metadata": {},
   "outputs": [],
   "source": [
    "# Calculate accuracy\n",
    "accuracy = accuracy_score(y_test, y_pred)"
   ]
  },
  {
   "cell_type": "code",
   "execution_count": 23,
   "id": "b89081c6",
   "metadata": {},
   "outputs": [
    {
     "name": "stdout",
     "output_type": "stream",
     "text": [
      "Accuracy: 1.0\n",
      "\n",
      "Classification Report:\n",
      "              precision    recall  f1-score   support\n",
      "\n",
      "           0       1.00      1.00      1.00         1\n",
      "\n",
      "    accuracy                           1.00         1\n",
      "   macro avg       1.00      1.00      1.00         1\n",
      "weighted avg       1.00      1.00      1.00         1\n",
      "\n"
     ]
    }
   ],
   "source": [
    "# Print the results\n",
    "print(f\"Accuracy: {accuracy}\")\n",
    "print(\"\\nClassification Report:\")\n",
    "print(classification_report(y_test, y_pred))"
   ]
  },
  {
   "cell_type": "code",
   "execution_count": null,
   "id": "8d43288f",
   "metadata": {},
   "outputs": [],
   "source": []
  }
 ],
 "metadata": {
  "kernelspec": {
   "display_name": "Python 3 (ipykernel)",
   "language": "python",
   "name": "python3"
  },
  "language_info": {
   "codemirror_mode": {
    "name": "ipython",
    "version": 3
   },
   "file_extension": ".py",
   "mimetype": "text/x-python",
   "name": "python",
   "nbconvert_exporter": "python",
   "pygments_lexer": "ipython3",
   "version": "3.10.9"
  }
 },
 "nbformat": 4,
 "nbformat_minor": 5
}
